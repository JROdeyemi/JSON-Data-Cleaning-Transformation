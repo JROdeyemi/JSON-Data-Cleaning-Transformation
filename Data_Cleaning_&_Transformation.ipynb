{
  "nbformat": 4,
  "nbformat_minor": 0,
  "metadata": {
    "colab": {
      "provenance": []
    },
    "kernelspec": {
      "name": "python3",
      "display_name": "Python 3"
    },
    "language_info": {
      "name": "python"
    }
  },
  "cells": [
    {
      "cell_type": "code",
      "execution_count": null,
      "metadata": {
        "id": "fZ6kXgIxgMqb"
      },
      "outputs": [],
      "source": [
        "#import Pandas library\n",
        "\n",
        "import pandas as pd\n",
        "\n",
        "#Read in JSON file\n",
        "json_data = pd.read_json('json_data.json')\n",
        "\n",
        "#Set Column data types\n",
        "json_data = json_data.astype(\n",
        "    {\n",
        "        'UserID': 'int64',\n",
        "        'UserName': 'string',\n",
        "        'Country': 'string',\n",
        "        'Saving': 'string'  \n",
        "    }   \n",
        ")\n",
        "\n",
        "#Cleaning\n",
        "#Removing the dollar sign from the Saving Column\n",
        "json_data['Saving'] = json_data['Saving'].str.lstrip('$')\n",
        "\n",
        "#Transformation\n",
        "#Reset Saving data type to appropriate one (float)\n",
        "json_data = json_data.astype(\n",
        "    {\n",
        "        'Saving': 'float64'\n",
        "    }\n",
        ")\n",
        "\n",
        "#Transformation\n",
        "#Split UserName column into first & last name.\n",
        "json_data['FirstName'] = json_data['UserName'].apply(lambda x: x.split()[0])\n",
        "\n",
        "json_data['LastName'] = json_data['UserName'].apply(lambda x: x.split()[1])\n",
        "\n",
        "#Transformation\n",
        "#Deleting the UserName column as it is now redundant\n",
        "json_data = json_data.drop('UserName', axis = 1)\n",
        "\n",
        "#Transformation\n",
        "#Reordering the columns for better understanding\n",
        "json_data = json_data.reindex(['UserID', 'FirstName', 'LastName', 'Country', 'Saving'], axis = 1)\n",
        "\n",
        "#Saving dataframe back as a json file.\n",
        "json_data.to_csv('UserData.csv') "
      ]
    }
  ]
}